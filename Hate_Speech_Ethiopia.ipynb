{
  "nbformat": 4,
  "nbformat_minor": 0,
  "metadata": {
    "colab": {
      "name": "Hate Speech - Ethiopia.ipynb",
      "provenance": [],
      "authorship_tag": "ABX9TyNkt79vQirCzYw7Ytd1g658",
      "include_colab_link": true
    },
    "kernelspec": {
      "name": "python3",
      "display_name": "Python 3"
    }
  },
  "cells": [
    {
      "cell_type": "markdown",
      "metadata": {
        "id": "view-in-github",
        "colab_type": "text"
      },
      "source": [
        "<a href=\"https://colab.research.google.com/github/ishaterdal/PeaceTech-Lab-Ethiopia-Lexicon/blob/main/Hate_Speech_Ethiopia.ipynb\" target=\"_parent\"><img src=\"https://colab.research.google.com/assets/colab-badge.svg\" alt=\"Open In Colab\"/></a>"
      ]
    },
    {
      "cell_type": "code",
      "metadata": {
        "id": "0GZ0Y0S_Nv3m"
      },
      "source": [
        "import pandas as pd\n",
        "import re"
      ],
      "execution_count": null,
      "outputs": []
    },
    {
      "cell_type": "code",
      "metadata": {
        "id": "d-AgFL-yR7eR"
      },
      "source": [
        "terms = pd.read_csv('/content/Terms_Original.csv', header=None)"
      ],
      "execution_count": null,
      "outputs": []
    },
    {
      "cell_type": "code",
      "metadata": {
        "colab": {
          "base_uri": "https://localhost:8080/",
          "height": 206
        },
        "id": "pucm09BHTbd3",
        "outputId": "01ad71bf-1c4b-403b-a2de-cf428227cd38"
      },
      "source": [
        "terms.head()"
      ],
      "execution_count": null,
      "outputs": [
        {
          "output_type": "execute_result",
          "data": {
            "text/html": [
              "<div>\n",
              "<style scoped>\n",
              "    .dataframe tbody tr th:only-of-type {\n",
              "        vertical-align: middle;\n",
              "    }\n",
              "\n",
              "    .dataframe tbody tr th {\n",
              "        vertical-align: top;\n",
              "    }\n",
              "\n",
              "    .dataframe thead th {\n",
              "        text-align: right;\n",
              "    }\n",
              "</style>\n",
              "<table border=\"1\" class=\"dataframe\">\n",
              "  <thead>\n",
              "    <tr style=\"text-align: right;\">\n",
              "      <th></th>\n",
              "      <th>0</th>\n",
              "    </tr>\n",
              "  </thead>\n",
              "  <tbody>\n",
              "    <tr>\n",
              "      <th>0</th>\n",
              "      <td>SARANGA TI WALI</td>\n",
              "    </tr>\n",
              "    <tr>\n",
              "      <th>1</th>\n",
              "      <td>rien</td>\n",
              "    </tr>\n",
              "    <tr>\n",
              "      <th>2</th>\n",
              "      <td>HAINE</td>\n",
              "    </tr>\n",
              "    <tr>\n",
              "      <th>3</th>\n",
              "      <td>TETUE</td>\n",
              "    </tr>\n",
              "    <tr>\n",
              "      <th>4</th>\n",
              "      <td>LES GBAKAS MANDJA SONT TROP EGOISTES</td>\n",
              "    </tr>\n",
              "  </tbody>\n",
              "</table>\n",
              "</div>"
            ],
            "text/plain": [
              "                                      0\n",
              "0                       SARANGA TI WALI\n",
              "1                                  rien\n",
              "2                                 HAINE\n",
              "3                                 TETUE\n",
              "4  LES GBAKAS MANDJA SONT TROP EGOISTES"
            ]
          },
          "metadata": {
            "tags": []
          },
          "execution_count": 29
        }
      ]
    },
    {
      "cell_type": "code",
      "metadata": {
        "colab": {
          "base_uri": "https://localhost:8080/"
        },
        "id": "rbIDpJd1WMaN",
        "outputId": "ea1f1345-3a5c-4f40-e765-ddd9f540e27d"
      },
      "source": [
        "print(terms)"
      ],
      "execution_count": null,
      "outputs": [
        {
          "output_type": "stream",
          "text": [
            "                                        0\n",
            "0                         SARANGA TI WALI\n",
            "1                                    rien\n",
            "2                                   HAINE\n",
            "3                                   TETUE\n",
            "4    LES GBAKAS MANDJA SONT TROP EGOISTES\n",
            "..                                    ...\n",
            "946                          houroukouzou\n",
            "947                            nda kangue\n",
            "948                         koundjou mass\n",
            "949                            Cannibales\n",
            "950                                Bandaï\n",
            "\n",
            "[951 rows x 1 columns]\n"
          ],
          "name": "stdout"
        }
      ]
    },
    {
      "cell_type": "code",
      "metadata": {
        "colab": {
          "base_uri": "https://localhost:8080/",
          "height": 175
        },
        "id": "uUU-nueeWSqW",
        "outputId": "a6f0f35b-cf79-40dd-da94-4b150a09d677"
      },
      "source": [
        "terms.describe()"
      ],
      "execution_count": null,
      "outputs": [
        {
          "output_type": "execute_result",
          "data": {
            "text/html": [
              "<div>\n",
              "<style scoped>\n",
              "    .dataframe tbody tr th:only-of-type {\n",
              "        vertical-align: middle;\n",
              "    }\n",
              "\n",
              "    .dataframe tbody tr th {\n",
              "        vertical-align: top;\n",
              "    }\n",
              "\n",
              "    .dataframe thead th {\n",
              "        text-align: right;\n",
              "    }\n",
              "</style>\n",
              "<table border=\"1\" class=\"dataframe\">\n",
              "  <thead>\n",
              "    <tr style=\"text-align: right;\">\n",
              "      <th></th>\n",
              "      <th>List_the_hate_speech_phrase_with_a_comma</th>\n",
              "      <th>a_Term</th>\n",
              "      <th>a_Term_001</th>\n",
              "      <th>a_Term_002</th>\n",
              "    </tr>\n",
              "  </thead>\n",
              "  <tbody>\n",
              "    <tr>\n",
              "      <th>count</th>\n",
              "      <td>482</td>\n",
              "      <td>482</td>\n",
              "      <td>284</td>\n",
              "      <td>185</td>\n",
              "    </tr>\n",
              "    <tr>\n",
              "      <th>unique</th>\n",
              "      <td>481</td>\n",
              "      <td>403</td>\n",
              "      <td>246</td>\n",
              "      <td>168</td>\n",
              "    </tr>\n",
              "    <tr>\n",
              "      <th>top</th>\n",
              "      <td>ETRANGER ; RELIGION ; POLITIQUE ;</td>\n",
              "      <td>ETRANGER</td>\n",
              "      <td>BENGUE</td>\n",
              "      <td>BENGUE</td>\n",
              "    </tr>\n",
              "    <tr>\n",
              "      <th>freq</th>\n",
              "      <td>2</td>\n",
              "      <td>11</td>\n",
              "      <td>5</td>\n",
              "      <td>5</td>\n",
              "    </tr>\n",
              "  </tbody>\n",
              "</table>\n",
              "</div>"
            ],
            "text/plain": [
              "       List_the_hate_speech_phrase_with_a_comma    a_Term a_Term_001 a_Term_002\n",
              "count                                       482       482        284        185\n",
              "unique                                      481       403        246        168\n",
              "top           ETRANGER ; RELIGION ; POLITIQUE ;  ETRANGER     BENGUE     BENGUE\n",
              "freq                                          2        11          5          5"
            ]
          },
          "metadata": {
            "tags": []
          },
          "execution_count": 9
        }
      ]
    },
    {
      "cell_type": "code",
      "metadata": {
        "id": "q4cU4Q_hXdsQ"
      },
      "source": [
        "terms.rename(columns={'List_the_hate_speech_phrase_with_a_comma':'terms_list', 'a_Term':'term_1', 'a_Term_001':'term_2','a_Term_002':'term_3'}, inplace=True)"
      ],
      "execution_count": null,
      "outputs": []
    },
    {
      "cell_type": "code",
      "metadata": {
        "colab": {
          "base_uri": "https://localhost:8080/",
          "height": 206
        },
        "id": "bS2p70oZX7cg",
        "outputId": "7700017c-9f41-4b38-9f2d-3b1a19b86e60"
      },
      "source": [
        "terms.head()"
      ],
      "execution_count": null,
      "outputs": [
        {
          "output_type": "execute_result",
          "data": {
            "text/html": [
              "<div>\n",
              "<style scoped>\n",
              "    .dataframe tbody tr th:only-of-type {\n",
              "        vertical-align: middle;\n",
              "    }\n",
              "\n",
              "    .dataframe tbody tr th {\n",
              "        vertical-align: top;\n",
              "    }\n",
              "\n",
              "    .dataframe thead th {\n",
              "        text-align: right;\n",
              "    }\n",
              "</style>\n",
              "<table border=\"1\" class=\"dataframe\">\n",
              "  <thead>\n",
              "    <tr style=\"text-align: right;\">\n",
              "      <th></th>\n",
              "      <th>0</th>\n",
              "    </tr>\n",
              "  </thead>\n",
              "  <tbody>\n",
              "    <tr>\n",
              "      <th>0</th>\n",
              "      <td>SARANGA TI WALI ; TAXI -MOTO ;  VOYOU ;,</td>\n",
              "    </tr>\n",
              "    <tr>\n",
              "      <th>1</th>\n",
              "      <td>rien</td>\n",
              "    </tr>\n",
              "    <tr>\n",
              "      <th>2</th>\n",
              "      <td>HAINE ; RELIGION ; ETHNIQUE ;</td>\n",
              "    </tr>\n",
              "    <tr>\n",
              "      <th>3</th>\n",
              "      <td>TETUE ; VOYOU ; MO YINGA MBI ?</td>\n",
              "    </tr>\n",
              "    <tr>\n",
              "      <th>4</th>\n",
              "      <td>LES GBAKAS MANDJA SONT TROP EGOISTES; LES YAKO...</td>\n",
              "    </tr>\n",
              "  </tbody>\n",
              "</table>\n",
              "</div>"
            ],
            "text/plain": [
              "                                                   0\n",
              "0           SARANGA TI WALI ; TAXI -MOTO ;  VOYOU ;,\n",
              "1                                               rien\n",
              "2                      HAINE ; RELIGION ; ETHNIQUE ;\n",
              "3                     TETUE ; VOYOU ; MO YINGA MBI ?\n",
              "4  LES GBAKAS MANDJA SONT TROP EGOISTES; LES YAKO..."
            ]
          },
          "metadata": {
            "tags": []
          },
          "execution_count": 26
        }
      ]
    },
    {
      "cell_type": "code",
      "metadata": {
        "id": "xrvxLq8naX8x"
      },
      "source": [
        "terms[0].value_counts().to_frame().to_excel('Sec4.xlsx')"
      ],
      "execution_count": null,
      "outputs": []
    },
    {
      "cell_type": "code",
      "metadata": {
        "id": "buyvQpOJh322"
      },
      "source": [
        "from sklearn import preprocessing"
      ],
      "execution_count": null,
      "outputs": []
    },
    {
      "cell_type": "code",
      "metadata": {
        "id": "jSdlaj2L1DY1"
      },
      "source": [
        "section2 = terms['terms_list']"
      ],
      "execution_count": null,
      "outputs": []
    },
    {
      "cell_type": "code",
      "metadata": {
        "colab": {
          "base_uri": "https://localhost:8080/"
        },
        "id": "aX3cBB_51S3_",
        "outputId": "0df1d2de-a1b6-455f-9259-9cca2c43641a"
      },
      "source": [
        "section2"
      ],
      "execution_count": null,
      "outputs": [
        {
          "output_type": "execute_result",
          "data": {
            "text/plain": [
              "0               SARANGA TI WALI ; TAXI -MOTO ;  VOYOU ;,\n",
              "1                                                   rien\n",
              "2                          HAINE ; RELIGION ; ETHNIQUE ;\n",
              "3                         TETUE ; VOYOU ; MO YINGA MBI ?\n",
              "4      LES GBAKAS MANDJA SONT TROP EGOISTES; LES YAKO...\n",
              "                             ...                        \n",
              "477                        chamarocka, kholo, nda kangue\n",
              "478                        Amdjoudoul iwacki koudjoumass\n",
              "479    Bengue, arabo, pro français, pro russes, moutons,\n",
              "480                                             Gangster\n",
              "481                      - Lawa Lawa\\n- Benguè\\n- Bandaï\n",
              "Name: terms_list, Length: 482, dtype: object"
            ]
          },
          "metadata": {
            "tags": []
          },
          "execution_count": 15
        }
      ]
    },
    {
      "cell_type": "code",
      "metadata": {
        "colab": {
          "base_uri": "https://localhost:8080/"
        },
        "id": "ot60Lmew6qp0",
        "outputId": "327bd955-b987-4c5e-b4e8-1d04be25108d"
      },
      "source": [
        "!pip install contractions\n",
        "import contractions"
      ],
      "execution_count": null,
      "outputs": [
        {
          "output_type": "stream",
          "text": [
            "Collecting contractions\n",
            "  Downloading https://files.pythonhosted.org/packages/ce/ad/d1c685967945a04f8596128b15a1ab56c51488f53312e953341af6ff22d1/contractions-0.0.43-py2.py3-none-any.whl\n",
            "Collecting textsearch\n",
            "  Downloading https://files.pythonhosted.org/packages/42/a8/03407021f9555043de5492a2bd7a35c56cc03c2510092b5ec018cae1bbf1/textsearch-0.0.17-py2.py3-none-any.whl\n",
            "Collecting Unidecode\n",
            "\u001b[?25l  Downloading https://files.pythonhosted.org/packages/d0/42/d9edfed04228bacea2d824904cae367ee9efd05e6cce7ceaaedd0b0ad964/Unidecode-1.1.1-py2.py3-none-any.whl (238kB)\n",
            "\u001b[K     |████████████████████████████████| 245kB 6.0MB/s \n",
            "\u001b[?25hCollecting pyahocorasick\n",
            "\u001b[?25l  Downloading https://files.pythonhosted.org/packages/f4/9f/f0d8e8850e12829eea2e778f1c90e3c53a9a799b7f412082a5d21cd19ae1/pyahocorasick-1.4.0.tar.gz (312kB)\n",
            "\u001b[K     |████████████████████████████████| 317kB 8.3MB/s \n",
            "\u001b[?25hBuilding wheels for collected packages: pyahocorasick\n",
            "  Building wheel for pyahocorasick (setup.py) ... \u001b[?25l\u001b[?25hdone\n",
            "  Created wheel for pyahocorasick: filename=pyahocorasick-1.4.0-cp36-cp36m-linux_x86_64.whl size=81699 sha256=c7b7b3d1a43be36fe3fc26c8fbe7ee5285c0073c0be2cf3d073adf136ca08813\n",
            "  Stored in directory: /root/.cache/pip/wheels/0a/90/61/87a55f5b459792fbb2b7ba6b31721b06ff5cf6bde541b40994\n",
            "Successfully built pyahocorasick\n",
            "Installing collected packages: Unidecode, pyahocorasick, textsearch, contractions\n",
            "Successfully installed Unidecode-1.1.1 contractions-0.0.43 pyahocorasick-1.4.0 textsearch-0.0.17\n"
          ],
          "name": "stdout"
        }
      ]
    },
    {
      "cell_type": "code",
      "metadata": {
        "id": "yFq0P9PHFMFr"
      },
      "source": [
        "terms['no_contract'] = section2.apply(lambda x: [contractions.fix(word) for word in x.split()])"
      ],
      "execution_count": null,
      "outputs": []
    },
    {
      "cell_type": "code",
      "metadata": {
        "colab": {
          "base_uri": "https://localhost:8080/",
          "height": 310
        },
        "id": "v6Q_V3rWFoNA",
        "outputId": "e29fda13-a6dd-4af6-8ab3-9836a2b57aed"
      },
      "source": [
        "terms.head()"
      ],
      "execution_count": null,
      "outputs": [
        {
          "output_type": "execute_result",
          "data": {
            "text/html": [
              "<div>\n",
              "<style scoped>\n",
              "    .dataframe tbody tr th:only-of-type {\n",
              "        vertical-align: middle;\n",
              "    }\n",
              "\n",
              "    .dataframe tbody tr th {\n",
              "        vertical-align: top;\n",
              "    }\n",
              "\n",
              "    .dataframe thead th {\n",
              "        text-align: right;\n",
              "    }\n",
              "</style>\n",
              "<table border=\"1\" class=\"dataframe\">\n",
              "  <thead>\n",
              "    <tr style=\"text-align: right;\">\n",
              "      <th></th>\n",
              "      <th>terms_list</th>\n",
              "      <th>term_1</th>\n",
              "      <th>term_2</th>\n",
              "      <th>term_3</th>\n",
              "      <th>no_contract</th>\n",
              "    </tr>\n",
              "  </thead>\n",
              "  <tbody>\n",
              "    <tr>\n",
              "      <th>0</th>\n",
              "      <td>SARANGA TI WALI ; TAXI -MOTO ;  VOYOU ;,</td>\n",
              "      <td>SARANGA TI WALI</td>\n",
              "      <td>TAXI-MOTO</td>\n",
              "      <td>VOYOUX</td>\n",
              "      <td>[SARANGA, TI, WALI, ;, TAXI, -MOTO, ;, VOYOU, ;,]</td>\n",
              "    </tr>\n",
              "    <tr>\n",
              "      <th>1</th>\n",
              "      <td>rien</td>\n",
              "      <td>rien</td>\n",
              "      <td>NaN</td>\n",
              "      <td>NaN</td>\n",
              "      <td>[rien]</td>\n",
              "    </tr>\n",
              "    <tr>\n",
              "      <th>2</th>\n",
              "      <td>HAINE ; RELIGION ; ETHNIQUE ;</td>\n",
              "      <td>HAINE</td>\n",
              "      <td>NaN</td>\n",
              "      <td>NaN</td>\n",
              "      <td>[HAINE, ;, RELIGION, ;, ETHNIQUE, ;]</td>\n",
              "    </tr>\n",
              "    <tr>\n",
              "      <th>3</th>\n",
              "      <td>TETUE ; VOYOU ; MO YINGA MBI ?</td>\n",
              "      <td>TETUE</td>\n",
              "      <td>NaN</td>\n",
              "      <td>NaN</td>\n",
              "      <td>[TETUE, ;, VOYOU, ;, MO, YINGA, MBI, ?]</td>\n",
              "    </tr>\n",
              "    <tr>\n",
              "      <th>4</th>\n",
              "      <td>LES GBAKAS MANDJA SONT TROP EGOISTES; LES YAKO...</td>\n",
              "      <td>LES GBAKAS MANDJA SONT TROP EGOISTES</td>\n",
              "      <td>LES YAKOMAS SONT DES ORGUEILLEUX</td>\n",
              "      <td>LES MANDJA SONT DES GRANDS VOLEURS ;</td>\n",
              "      <td>[LES, GBAKAS, MANDJA, SONT, TROP, EGOISTES;, L...</td>\n",
              "    </tr>\n",
              "  </tbody>\n",
              "</table>\n",
              "</div>"
            ],
            "text/plain": [
              "                                          terms_list  ...                                        no_contract\n",
              "0           SARANGA TI WALI ; TAXI -MOTO ;  VOYOU ;,  ...  [SARANGA, TI, WALI, ;, TAXI, -MOTO, ;, VOYOU, ;,]\n",
              "1                                               rien  ...                                             [rien]\n",
              "2                      HAINE ; RELIGION ; ETHNIQUE ;  ...               [HAINE, ;, RELIGION, ;, ETHNIQUE, ;]\n",
              "3                     TETUE ; VOYOU ; MO YINGA MBI ?  ...            [TETUE, ;, VOYOU, ;, MO, YINGA, MBI, ?]\n",
              "4  LES GBAKAS MANDJA SONT TROP EGOISTES; LES YAKO...  ...  [LES, GBAKAS, MANDJA, SONT, TROP, EGOISTES;, L...\n",
              "\n",
              "[5 rows x 5 columns]"
            ]
          },
          "metadata": {
            "tags": []
          },
          "execution_count": 18
        }
      ]
    },
    {
      "cell_type": "code",
      "metadata": {
        "colab": {
          "base_uri": "https://localhost:8080/",
          "height": 328
        },
        "id": "yCUL-zsLQ4-O",
        "outputId": "e762047b-2303-4c7d-c152-7d2e0beedd89"
      },
      "source": [
        "terms[\"msg_str\"] = [' '.join(map(str, l)) for l in terms['no_contract']]\n",
        "terms.head()"
      ],
      "execution_count": null,
      "outputs": [
        {
          "output_type": "execute_result",
          "data": {
            "text/html": [
              "<div>\n",
              "<style scoped>\n",
              "    .dataframe tbody tr th:only-of-type {\n",
              "        vertical-align: middle;\n",
              "    }\n",
              "\n",
              "    .dataframe tbody tr th {\n",
              "        vertical-align: top;\n",
              "    }\n",
              "\n",
              "    .dataframe thead th {\n",
              "        text-align: right;\n",
              "    }\n",
              "</style>\n",
              "<table border=\"1\" class=\"dataframe\">\n",
              "  <thead>\n",
              "    <tr style=\"text-align: right;\">\n",
              "      <th></th>\n",
              "      <th>terms_list</th>\n",
              "      <th>term_1</th>\n",
              "      <th>term_2</th>\n",
              "      <th>term_3</th>\n",
              "      <th>no_contract</th>\n",
              "      <th>msg_str</th>\n",
              "    </tr>\n",
              "  </thead>\n",
              "  <tbody>\n",
              "    <tr>\n",
              "      <th>0</th>\n",
              "      <td>SARANGA TI WALI ; TAXI -MOTO ;  VOYOU ;,</td>\n",
              "      <td>SARANGA TI WALI</td>\n",
              "      <td>TAXI-MOTO</td>\n",
              "      <td>VOYOUX</td>\n",
              "      <td>[SARANGA, TI, WALI, ;, TAXI, -MOTO, ;, VOYOU, ;,]</td>\n",
              "      <td>SARANGA TI WALI ; TAXI -MOTO ; VOYOU ;,</td>\n",
              "    </tr>\n",
              "    <tr>\n",
              "      <th>1</th>\n",
              "      <td>rien</td>\n",
              "      <td>rien</td>\n",
              "      <td>NaN</td>\n",
              "      <td>NaN</td>\n",
              "      <td>[rien]</td>\n",
              "      <td>rien</td>\n",
              "    </tr>\n",
              "    <tr>\n",
              "      <th>2</th>\n",
              "      <td>HAINE ; RELIGION ; ETHNIQUE ;</td>\n",
              "      <td>HAINE</td>\n",
              "      <td>NaN</td>\n",
              "      <td>NaN</td>\n",
              "      <td>[HAINE, ;, RELIGION, ;, ETHNIQUE, ;]</td>\n",
              "      <td>HAINE ; RELIGION ; ETHNIQUE ;</td>\n",
              "    </tr>\n",
              "    <tr>\n",
              "      <th>3</th>\n",
              "      <td>TETUE ; VOYOU ; MO YINGA MBI ?</td>\n",
              "      <td>TETUE</td>\n",
              "      <td>NaN</td>\n",
              "      <td>NaN</td>\n",
              "      <td>[TETUE, ;, VOYOU, ;, MO, YINGA, MBI, ?]</td>\n",
              "      <td>TETUE ; VOYOU ; MO YINGA MBI ?</td>\n",
              "    </tr>\n",
              "    <tr>\n",
              "      <th>4</th>\n",
              "      <td>LES GBAKAS MANDJA SONT TROP EGOISTES; LES YAKO...</td>\n",
              "      <td>LES GBAKAS MANDJA SONT TROP EGOISTES</td>\n",
              "      <td>LES YAKOMAS SONT DES ORGUEILLEUX</td>\n",
              "      <td>LES MANDJA SONT DES GRANDS VOLEURS ;</td>\n",
              "      <td>[LES, GBAKAS, MANDJA, SONT, TROP, EGOISTES;, L...</td>\n",
              "      <td>LES GBAKAS MANDJA SONT TROP EGOISTES; LES YAKO...</td>\n",
              "    </tr>\n",
              "  </tbody>\n",
              "</table>\n",
              "</div>"
            ],
            "text/plain": [
              "                                          terms_list  ...                                            msg_str\n",
              "0           SARANGA TI WALI ; TAXI -MOTO ;  VOYOU ;,  ...            SARANGA TI WALI ; TAXI -MOTO ; VOYOU ;,\n",
              "1                                               rien  ...                                               rien\n",
              "2                      HAINE ; RELIGION ; ETHNIQUE ;  ...                      HAINE ; RELIGION ; ETHNIQUE ;\n",
              "3                     TETUE ; VOYOU ; MO YINGA MBI ?  ...                     TETUE ; VOYOU ; MO YINGA MBI ?\n",
              "4  LES GBAKAS MANDJA SONT TROP EGOISTES; LES YAKO...  ...  LES GBAKAS MANDJA SONT TROP EGOISTES; LES YAKO...\n",
              "\n",
              "[5 rows x 6 columns]"
            ]
          },
          "metadata": {
            "tags": []
          },
          "execution_count": 19
        }
      ]
    },
    {
      "cell_type": "code",
      "metadata": {
        "colab": {
          "base_uri": "https://localhost:8080/"
        },
        "id": "cEwARPq_GG08",
        "outputId": "b1c2af49-9da3-4f27-f7e8-522c04b8e6ae"
      },
      "source": [
        "import nltk\n",
        "nltk.download('punkt')\n",
        "from nltk.tokenize import word_tokenize"
      ],
      "execution_count": null,
      "outputs": [
        {
          "output_type": "stream",
          "text": [
            "[nltk_data] Downloading package punkt to /root/nltk_data...\n",
            "[nltk_data]   Unzipping tokenizers/punkt.zip.\n"
          ],
          "name": "stdout"
        }
      ]
    },
    {
      "cell_type": "code",
      "metadata": {
        "id": "18uESl1iP1RL"
      },
      "source": [
        "text = \"Hi, I would like to tokenize this sentence\""
      ],
      "execution_count": null,
      "outputs": []
    },
    {
      "cell_type": "code",
      "metadata": {
        "colab": {
          "base_uri": "https://localhost:8080/"
        },
        "id": "MF66YtCuP5YZ",
        "outputId": "843b59e4-78cf-4495-9ea1-a7997f61df36"
      },
      "source": [
        "print(word_tokenize(text))"
      ],
      "execution_count": null,
      "outputs": [
        {
          "output_type": "stream",
          "text": [
            "['Hi', ',', 'I', 'would', 'like', 'to', 'tokenize', 'this', 'sentence']\n"
          ],
          "name": "stdout"
        }
      ]
    },
    {
      "cell_type": "code",
      "metadata": {
        "id": "tAsC9yEvQNNt"
      },
      "source": [
        "terms['tokenized'] = terms['msg_str'].apply(word_tokenize)"
      ],
      "execution_count": null,
      "outputs": []
    },
    {
      "cell_type": "code",
      "metadata": {
        "colab": {
          "base_uri": "https://localhost:8080/",
          "height": 397
        },
        "id": "YbkjpCyiRRNt",
        "outputId": "99299ab5-a189-40c2-b8b1-ba53dfa48403"
      },
      "source": [
        "terms.head()"
      ],
      "execution_count": null,
      "outputs": [
        {
          "output_type": "execute_result",
          "data": {
            "text/html": [
              "<div>\n",
              "<style scoped>\n",
              "    .dataframe tbody tr th:only-of-type {\n",
              "        vertical-align: middle;\n",
              "    }\n",
              "\n",
              "    .dataframe tbody tr th {\n",
              "        vertical-align: top;\n",
              "    }\n",
              "\n",
              "    .dataframe thead th {\n",
              "        text-align: right;\n",
              "    }\n",
              "</style>\n",
              "<table border=\"1\" class=\"dataframe\">\n",
              "  <thead>\n",
              "    <tr style=\"text-align: right;\">\n",
              "      <th></th>\n",
              "      <th>terms_list</th>\n",
              "      <th>term_1</th>\n",
              "      <th>term_2</th>\n",
              "      <th>term_3</th>\n",
              "      <th>no_contract</th>\n",
              "      <th>msg_str</th>\n",
              "      <th>tokenized</th>\n",
              "    </tr>\n",
              "  </thead>\n",
              "  <tbody>\n",
              "    <tr>\n",
              "      <th>0</th>\n",
              "      <td>SARANGA TI WALI ; TAXI -MOTO ;  VOYOU ;,</td>\n",
              "      <td>SARANGA TI WALI</td>\n",
              "      <td>TAXI-MOTO</td>\n",
              "      <td>VOYOUX</td>\n",
              "      <td>[SARANGA, TI, WALI, ;, TAXI, -MOTO, ;, VOYOU, ;,]</td>\n",
              "      <td>SARANGA TI WALI ; TAXI -MOTO ; VOYOU ;,</td>\n",
              "      <td>[SARANGA, TI, WALI, ;, TAXI, -MOTO, ;, VOYOU, ...</td>\n",
              "    </tr>\n",
              "    <tr>\n",
              "      <th>1</th>\n",
              "      <td>rien</td>\n",
              "      <td>rien</td>\n",
              "      <td>NaN</td>\n",
              "      <td>NaN</td>\n",
              "      <td>[rien]</td>\n",
              "      <td>rien</td>\n",
              "      <td>[rien]</td>\n",
              "    </tr>\n",
              "    <tr>\n",
              "      <th>2</th>\n",
              "      <td>HAINE ; RELIGION ; ETHNIQUE ;</td>\n",
              "      <td>HAINE</td>\n",
              "      <td>NaN</td>\n",
              "      <td>NaN</td>\n",
              "      <td>[HAINE, ;, RELIGION, ;, ETHNIQUE, ;]</td>\n",
              "      <td>HAINE ; RELIGION ; ETHNIQUE ;</td>\n",
              "      <td>[HAINE, ;, RELIGION, ;, ETHNIQUE, ;]</td>\n",
              "    </tr>\n",
              "    <tr>\n",
              "      <th>3</th>\n",
              "      <td>TETUE ; VOYOU ; MO YINGA MBI ?</td>\n",
              "      <td>TETUE</td>\n",
              "      <td>NaN</td>\n",
              "      <td>NaN</td>\n",
              "      <td>[TETUE, ;, VOYOU, ;, MO, YINGA, MBI, ?]</td>\n",
              "      <td>TETUE ; VOYOU ; MO YINGA MBI ?</td>\n",
              "      <td>[TETUE, ;, VOYOU, ;, MO, YINGA, MBI, ?]</td>\n",
              "    </tr>\n",
              "    <tr>\n",
              "      <th>4</th>\n",
              "      <td>LES GBAKAS MANDJA SONT TROP EGOISTES; LES YAKO...</td>\n",
              "      <td>LES GBAKAS MANDJA SONT TROP EGOISTES</td>\n",
              "      <td>LES YAKOMAS SONT DES ORGUEILLEUX</td>\n",
              "      <td>LES MANDJA SONT DES GRANDS VOLEURS ;</td>\n",
              "      <td>[LES, GBAKAS, MANDJA, SONT, TROP, EGOISTES;, L...</td>\n",
              "      <td>LES GBAKAS MANDJA SONT TROP EGOISTES; LES YAKO...</td>\n",
              "      <td>[LES, GBAKAS, MANDJA, SONT, TROP, EGOISTES, ;,...</td>\n",
              "    </tr>\n",
              "  </tbody>\n",
              "</table>\n",
              "</div>"
            ],
            "text/plain": [
              "                                          terms_list  ...                                          tokenized\n",
              "0           SARANGA TI WALI ; TAXI -MOTO ;  VOYOU ;,  ...  [SARANGA, TI, WALI, ;, TAXI, -MOTO, ;, VOYOU, ...\n",
              "1                                               rien  ...                                             [rien]\n",
              "2                      HAINE ; RELIGION ; ETHNIQUE ;  ...               [HAINE, ;, RELIGION, ;, ETHNIQUE, ;]\n",
              "3                     TETUE ; VOYOU ; MO YINGA MBI ?  ...            [TETUE, ;, VOYOU, ;, MO, YINGA, MBI, ?]\n",
              "4  LES GBAKAS MANDJA SONT TROP EGOISTES; LES YAKO...  ...  [LES, GBAKAS, MANDJA, SONT, TROP, EGOISTES, ;,...\n",
              "\n",
              "[5 rows x 7 columns]"
            ]
          },
          "metadata": {
            "tags": []
          },
          "execution_count": 24
        }
      ]
    },
    {
      "cell_type": "code",
      "metadata": {
        "colab": {
          "base_uri": "https://localhost:8080/",
          "height": 432
        },
        "id": "_w9FQIj9SrTG",
        "outputId": "776a3926-7d38-4775-806e-9bcb8ba8cbce"
      },
      "source": [
        "terms['lower'] = terms['tokenized'].apply(lambda x: [word.lower() for word in x])\n",
        "terms.head()"
      ],
      "execution_count": null,
      "outputs": [
        {
          "output_type": "execute_result",
          "data": {
            "text/html": [
              "<div>\n",
              "<style scoped>\n",
              "    .dataframe tbody tr th:only-of-type {\n",
              "        vertical-align: middle;\n",
              "    }\n",
              "\n",
              "    .dataframe tbody tr th {\n",
              "        vertical-align: top;\n",
              "    }\n",
              "\n",
              "    .dataframe thead th {\n",
              "        text-align: right;\n",
              "    }\n",
              "</style>\n",
              "<table border=\"1\" class=\"dataframe\">\n",
              "  <thead>\n",
              "    <tr style=\"text-align: right;\">\n",
              "      <th></th>\n",
              "      <th>terms_list</th>\n",
              "      <th>term_1</th>\n",
              "      <th>term_2</th>\n",
              "      <th>term_3</th>\n",
              "      <th>no_contract</th>\n",
              "      <th>msg_str</th>\n",
              "      <th>tokenized</th>\n",
              "      <th>lower</th>\n",
              "    </tr>\n",
              "  </thead>\n",
              "  <tbody>\n",
              "    <tr>\n",
              "      <th>0</th>\n",
              "      <td>SARANGA TI WALI ; TAXI -MOTO ;  VOYOU ;,</td>\n",
              "      <td>SARANGA TI WALI</td>\n",
              "      <td>TAXI-MOTO</td>\n",
              "      <td>VOYOUX</td>\n",
              "      <td>[SARANGA, TI, WALI, ;, TAXI, -MOTO, ;, VOYOU, ;,]</td>\n",
              "      <td>SARANGA TI WALI ; TAXI -MOTO ; VOYOU ;,</td>\n",
              "      <td>[SARANGA, TI, WALI, ;, TAXI, -MOTO, ;, VOYOU, ...</td>\n",
              "      <td>[saranga, ti, wali, ;, taxi, -moto, ;, voyou, ...</td>\n",
              "    </tr>\n",
              "    <tr>\n",
              "      <th>1</th>\n",
              "      <td>rien</td>\n",
              "      <td>rien</td>\n",
              "      <td>NaN</td>\n",
              "      <td>NaN</td>\n",
              "      <td>[rien]</td>\n",
              "      <td>rien</td>\n",
              "      <td>[rien]</td>\n",
              "      <td>[rien]</td>\n",
              "    </tr>\n",
              "    <tr>\n",
              "      <th>2</th>\n",
              "      <td>HAINE ; RELIGION ; ETHNIQUE ;</td>\n",
              "      <td>HAINE</td>\n",
              "      <td>NaN</td>\n",
              "      <td>NaN</td>\n",
              "      <td>[HAINE, ;, RELIGION, ;, ETHNIQUE, ;]</td>\n",
              "      <td>HAINE ; RELIGION ; ETHNIQUE ;</td>\n",
              "      <td>[HAINE, ;, RELIGION, ;, ETHNIQUE, ;]</td>\n",
              "      <td>[haine, ;, religion, ;, ethnique, ;]</td>\n",
              "    </tr>\n",
              "    <tr>\n",
              "      <th>3</th>\n",
              "      <td>TETUE ; VOYOU ; MO YINGA MBI ?</td>\n",
              "      <td>TETUE</td>\n",
              "      <td>NaN</td>\n",
              "      <td>NaN</td>\n",
              "      <td>[TETUE, ;, VOYOU, ;, MO, YINGA, MBI, ?]</td>\n",
              "      <td>TETUE ; VOYOU ; MO YINGA MBI ?</td>\n",
              "      <td>[TETUE, ;, VOYOU, ;, MO, YINGA, MBI, ?]</td>\n",
              "      <td>[tetue, ;, voyou, ;, mo, yinga, mbi, ?]</td>\n",
              "    </tr>\n",
              "    <tr>\n",
              "      <th>4</th>\n",
              "      <td>LES GBAKAS MANDJA SONT TROP EGOISTES; LES YAKO...</td>\n",
              "      <td>LES GBAKAS MANDJA SONT TROP EGOISTES</td>\n",
              "      <td>LES YAKOMAS SONT DES ORGUEILLEUX</td>\n",
              "      <td>LES MANDJA SONT DES GRANDS VOLEURS ;</td>\n",
              "      <td>[LES, GBAKAS, MANDJA, SONT, TROP, EGOISTES;, L...</td>\n",
              "      <td>LES GBAKAS MANDJA SONT TROP EGOISTES; LES YAKO...</td>\n",
              "      <td>[LES, GBAKAS, MANDJA, SONT, TROP, EGOISTES, ;,...</td>\n",
              "      <td>[les, gbakas, mandja, sont, trop, egoistes, ;,...</td>\n",
              "    </tr>\n",
              "  </tbody>\n",
              "</table>\n",
              "</div>"
            ],
            "text/plain": [
              "                                          terms_list  ...                                              lower\n",
              "0           SARANGA TI WALI ; TAXI -MOTO ;  VOYOU ;,  ...  [saranga, ti, wali, ;, taxi, -moto, ;, voyou, ...\n",
              "1                                               rien  ...                                             [rien]\n",
              "2                      HAINE ; RELIGION ; ETHNIQUE ;  ...               [haine, ;, religion, ;, ethnique, ;]\n",
              "3                     TETUE ; VOYOU ; MO YINGA MBI ?  ...            [tetue, ;, voyou, ;, mo, yinga, mbi, ?]\n",
              "4  LES GBAKAS MANDJA SONT TROP EGOISTES; LES YAKO...  ...  [les, gbakas, mandja, sont, trop, egoistes, ;,...\n",
              "\n",
              "[5 rows x 8 columns]"
            ]
          },
          "metadata": {
            "tags": []
          },
          "execution_count": 25
        }
      ]
    },
    {
      "cell_type": "code",
      "metadata": {
        "colab": {
          "base_uri": "https://localhost:8080/",
          "height": 536
        },
        "id": "GXCYOG-XTYJy",
        "outputId": "65e9c986-6bf7-454f-abcb-ce198dbf5dfe"
      },
      "source": [
        "import string\n",
        "punc = string.punctuation\n",
        "terms['no_punc'] = terms['lower'].apply(lambda x: [word for word in x if word not in punc])\n",
        "terms.head()"
      ],
      "execution_count": null,
      "outputs": [
        {
          "output_type": "execute_result",
          "data": {
            "text/html": [
              "<div>\n",
              "<style scoped>\n",
              "    .dataframe tbody tr th:only-of-type {\n",
              "        vertical-align: middle;\n",
              "    }\n",
              "\n",
              "    .dataframe tbody tr th {\n",
              "        vertical-align: top;\n",
              "    }\n",
              "\n",
              "    .dataframe thead th {\n",
              "        text-align: right;\n",
              "    }\n",
              "</style>\n",
              "<table border=\"1\" class=\"dataframe\">\n",
              "  <thead>\n",
              "    <tr style=\"text-align: right;\">\n",
              "      <th></th>\n",
              "      <th>terms_list</th>\n",
              "      <th>term_1</th>\n",
              "      <th>term_2</th>\n",
              "      <th>term_3</th>\n",
              "      <th>no_contract</th>\n",
              "      <th>msg_str</th>\n",
              "      <th>tokenized</th>\n",
              "      <th>lower</th>\n",
              "      <th>no_punc</th>\n",
              "    </tr>\n",
              "  </thead>\n",
              "  <tbody>\n",
              "    <tr>\n",
              "      <th>0</th>\n",
              "      <td>SARANGA TI WALI ; TAXI -MOTO ;  VOYOU ;,</td>\n",
              "      <td>SARANGA TI WALI</td>\n",
              "      <td>TAXI-MOTO</td>\n",
              "      <td>VOYOUX</td>\n",
              "      <td>[SARANGA, TI, WALI, ;, TAXI, -MOTO, ;, VOYOU, ;,]</td>\n",
              "      <td>SARANGA TI WALI ; TAXI -MOTO ; VOYOU ;,</td>\n",
              "      <td>[SARANGA, TI, WALI, ;, TAXI, -MOTO, ;, VOYOU, ...</td>\n",
              "      <td>[saranga, ti, wali, ;, taxi, -moto, ;, voyou, ...</td>\n",
              "      <td>[saranga, ti, wali, taxi, -moto, voyou]</td>\n",
              "    </tr>\n",
              "    <tr>\n",
              "      <th>1</th>\n",
              "      <td>rien</td>\n",
              "      <td>rien</td>\n",
              "      <td>NaN</td>\n",
              "      <td>NaN</td>\n",
              "      <td>[rien]</td>\n",
              "      <td>rien</td>\n",
              "      <td>[rien]</td>\n",
              "      <td>[rien]</td>\n",
              "      <td>[rien]</td>\n",
              "    </tr>\n",
              "    <tr>\n",
              "      <th>2</th>\n",
              "      <td>HAINE ; RELIGION ; ETHNIQUE ;</td>\n",
              "      <td>HAINE</td>\n",
              "      <td>NaN</td>\n",
              "      <td>NaN</td>\n",
              "      <td>[HAINE, ;, RELIGION, ;, ETHNIQUE, ;]</td>\n",
              "      <td>HAINE ; RELIGION ; ETHNIQUE ;</td>\n",
              "      <td>[HAINE, ;, RELIGION, ;, ETHNIQUE, ;]</td>\n",
              "      <td>[haine, ;, religion, ;, ethnique, ;]</td>\n",
              "      <td>[haine, religion, ethnique]</td>\n",
              "    </tr>\n",
              "    <tr>\n",
              "      <th>3</th>\n",
              "      <td>TETUE ; VOYOU ; MO YINGA MBI ?</td>\n",
              "      <td>TETUE</td>\n",
              "      <td>NaN</td>\n",
              "      <td>NaN</td>\n",
              "      <td>[TETUE, ;, VOYOU, ;, MO, YINGA, MBI, ?]</td>\n",
              "      <td>TETUE ; VOYOU ; MO YINGA MBI ?</td>\n",
              "      <td>[TETUE, ;, VOYOU, ;, MO, YINGA, MBI, ?]</td>\n",
              "      <td>[tetue, ;, voyou, ;, mo, yinga, mbi, ?]</td>\n",
              "      <td>[tetue, voyou, mo, yinga, mbi]</td>\n",
              "    </tr>\n",
              "    <tr>\n",
              "      <th>4</th>\n",
              "      <td>LES GBAKAS MANDJA SONT TROP EGOISTES; LES YAKO...</td>\n",
              "      <td>LES GBAKAS MANDJA SONT TROP EGOISTES</td>\n",
              "      <td>LES YAKOMAS SONT DES ORGUEILLEUX</td>\n",
              "      <td>LES MANDJA SONT DES GRANDS VOLEURS ;</td>\n",
              "      <td>[LES, GBAKAS, MANDJA, SONT, TROP, EGOISTES;, L...</td>\n",
              "      <td>LES GBAKAS MANDJA SONT TROP EGOISTES; LES YAKO...</td>\n",
              "      <td>[LES, GBAKAS, MANDJA, SONT, TROP, EGOISTES, ;,...</td>\n",
              "      <td>[les, gbakas, mandja, sont, trop, egoistes, ;,...</td>\n",
              "      <td>[les, gbakas, mandja, sont, trop, egoistes, le...</td>\n",
              "    </tr>\n",
              "  </tbody>\n",
              "</table>\n",
              "</div>"
            ],
            "text/plain": [
              "                                          terms_list  ...                                            no_punc\n",
              "0           SARANGA TI WALI ; TAXI -MOTO ;  VOYOU ;,  ...            [saranga, ti, wali, taxi, -moto, voyou]\n",
              "1                                               rien  ...                                             [rien]\n",
              "2                      HAINE ; RELIGION ; ETHNIQUE ;  ...                        [haine, religion, ethnique]\n",
              "3                     TETUE ; VOYOU ; MO YINGA MBI ?  ...                     [tetue, voyou, mo, yinga, mbi]\n",
              "4  LES GBAKAS MANDJA SONT TROP EGOISTES; LES YAKO...  ...  [les, gbakas, mandja, sont, trop, egoistes, le...\n",
              "\n",
              "[5 rows x 9 columns]"
            ]
          },
          "metadata": {
            "tags": []
          },
          "execution_count": 26
        }
      ]
    },
    {
      "cell_type": "code",
      "metadata": {
        "colab": {
          "base_uri": "https://localhost:8080/"
        },
        "id": "UYk5KcIZUJAZ",
        "outputId": "303c0f07-3476-4049-d03e-b3e475fae170"
      },
      "source": [
        "terms.terms_list.str.split(expand=True).stack().value_counts()[:50]"
      ],
      "execution_count": null,
      "outputs": [
        {
          "output_type": "execute_result",
          "data": {
            "text/plain": [
              ";             943\n",
              "TI            274\n",
              "MO            188\n",
              "A             174\n",
              "ZO            102\n",
              "SO             88\n",
              "ALA            78\n",
              "LA             77\n",
              "LO             69\n",
              "BA             49\n",
              "NA             46\n",
              "?              44\n",
              "GA             44\n",
              "MBI            38\n",
              "YEKE           35\n",
              ",              34\n",
              "BOUBA          33\n",
              "LES            31\n",
              "WALI           29\n",
              "APE            28\n",
              "TU             28\n",
              "BENGUE         26\n",
              "I              26\n",
              "MAMA           24\n",
              "AWE            22\n",
              "LAWA           20\n",
              "ARABO          19\n",
              "DE             19\n",
              "PINDOUNGOU     18\n",
              "DES            18\n",
              "RELIGION       17\n",
              "MBORORO        17\n",
              "TOUADERA       17\n",
              "GANGO          16\n",
              "ETRANGER       16\n",
              "ETHNIQUE       16\n",
              "LE             15\n",
              "KATA           15\n",
              "YA             15\n",
              "MBO            14\n",
              "GBAYA          14\n",
              "POLITIQUE      13\n",
              "ME             13\n",
              "SELEKA         13\n",
              "KE             13\n",
              "INGA           13\n",
              "ES             13\n",
              "BANDA          13\n",
              "TA             13\n",
              "NGONDA         12\n",
              "dtype: int64"
            ]
          },
          "metadata": {
            "tags": []
          },
          "execution_count": 27
        }
      ]
    },
    {
      "cell_type": "code",
      "metadata": {
        "colab": {
          "base_uri": "https://localhost:8080/"
        },
        "id": "Zc8UmdZW4wX6",
        "outputId": "2f8162e0-d73c-4806-999d-4e9994247ee5"
      },
      "source": [
        "terms.term_1.str.split(expand=True).stack().value_counts()[:50]"
      ],
      "execution_count": null,
      "outputs": [
        {
          "output_type": "execute_result",
          "data": {
            "text/plain": [
              "TI            93\n",
              ";             83\n",
              "A             70\n",
              "MO            54\n",
              "ZO            35\n",
              "SO            31\n",
              "ALA           31\n",
              "LO            24\n",
              "LA            24\n",
              "GA            19\n",
              "BA            16\n",
              "LES           15\n",
              ",             14\n",
              "MBI           13\n",
              "BOUBA         13\n",
              "?             13\n",
              "NA            13\n",
              "ETRANGER      12\n",
              "LAWA          11\n",
              "MBORORO       11\n",
              "TOUADERA      11\n",
              "DE             9\n",
              "TU             9\n",
              "ARABO          9\n",
              "YA             8\n",
              "YEKE           8\n",
              "MBO            8\n",
              "WALI           8\n",
              "DES            7\n",
              "AWE            7\n",
              "GANGO          7\n",
              "MAMA           7\n",
              "APE            6\n",
              "BANDA          6\n",
              "les            6\n",
              "KATA           6\n",
              "KPANDA         6\n",
              "ETHNIQUE       6\n",
              "IDIOT          6\n",
              "RELIGION       5\n",
              "KORORO         5\n",
              "PINDOUNGOU     5\n",
              "ME             5\n",
              "TA             5\n",
              "VOUS           5\n",
              "GODOBE         5\n",
              "la             5\n",
              "SONT           5\n",
              "YAKOMA         5\n",
              "ES             5\n",
              "dtype: int64"
            ]
          },
          "metadata": {
            "tags": []
          },
          "execution_count": 30
        }
      ]
    },
    {
      "cell_type": "code",
      "metadata": {
        "id": "MXYyP_Z94yvv"
      },
      "source": [
        "terms_final = terms.value_counts()"
      ],
      "execution_count": null,
      "outputs": []
    },
    {
      "cell_type": "code",
      "metadata": {
        "id": "FxFjgzQxF6m9"
      },
      "source": [
        "terms_f = terms_final.to_frame()"
      ],
      "execution_count": null,
      "outputs": []
    },
    {
      "cell_type": "code",
      "metadata": {
        "colab": {
          "base_uri": "https://localhost:8080/"
        },
        "id": "LVKbwPHQGKjk",
        "outputId": "88e862c2-c86b-4a04-fef4-a51d4a7dcf5e"
      },
      "source": [
        "print(terms_f)"
      ],
      "execution_count": null,
      "outputs": [
        {
          "output_type": "stream",
          "text": [
            "                                                     0\n",
            "0                                                     \n",
            "ETRANGER                                            16\n",
            "BENGUE                                              11\n",
            "BOUBA ZO                                            10\n",
            "RELIGION                                             9\n",
            "ETHNIQUE                                             9\n",
            "...                                                 ..\n",
            "MOLENGUE TI OMBA                                     1\n",
            "MOLENGUE TI OMBA ; GANA CAR; MO ZO LA;               1\n",
            "MON GA LAWA ; C'EST UN ORGUEILLEUX ; MOUTON          1\n",
            "MON GA LAWA ; MON YEKE ZOA GUE ; I INGA A ALA WE !   1\n",
            "- Lawa Lawa\\n- Benguè\\n- Bandaï                      1\n",
            "\n",
            "[1201 rows x 1 columns]\n"
          ],
          "name": "stdout"
        }
      ]
    },
    {
      "cell_type": "code",
      "metadata": {
        "colab": {
          "base_uri": "https://localhost:8080/"
        },
        "id": "7a8j3z_hd1Lo",
        "outputId": "f0b4bea9-b5db-46b5-b4aa-0987ff9d2f67"
      },
      "source": [
        "len(terms_f)"
      ],
      "execution_count": null,
      "outputs": [
        {
          "output_type": "execute_result",
          "data": {
            "text/plain": [
              "1201"
            ]
          },
          "metadata": {
            "tags": []
          },
          "execution_count": 66
        }
      ]
    },
    {
      "cell_type": "code",
      "metadata": {
        "id": "uJpQYZLcDR9L"
      },
      "source": [
        "terms_f.to_excel('Terms_Final.xlsx')"
      ],
      "execution_count": null,
      "outputs": []
    },
    {
      "cell_type": "markdown",
      "metadata": {
        "id": "i5hEobxE0eKk"
      },
      "source": [
        "### ***Integrating translated terms (Sango -> French)***"
      ]
    },
    {
      "cell_type": "code",
      "metadata": {
        "colab": {
          "base_uri": "https://localhost:8080/",
          "height": 819
        },
        "id": "eM_i11Lg0lKl",
        "outputId": "79229c3e-b7c2-403b-fae3-73102805d8d5"
      },
      "source": [
        "terms = pd.read_csv('translated.csv')\n",
        "terms.head()"
      ],
      "execution_count": null,
      "outputs": [
        {
          "output_type": "execute_result",
          "data": {
            "text/html": [
              "<div>\n",
              "<style scoped>\n",
              "    .dataframe tbody tr th:only-of-type {\n",
              "        vertical-align: middle;\n",
              "    }\n",
              "\n",
              "    .dataframe tbody tr th {\n",
              "        vertical-align: top;\n",
              "    }\n",
              "\n",
              "    .dataframe thead th {\n",
              "        text-align: right;\n",
              "    }\n",
              "</style>\n",
              "<table border=\"1\" class=\"dataframe\">\n",
              "  <thead>\n",
              "    <tr style=\"text-align: right;\">\n",
              "      <th></th>\n",
              "      <th>Unnamed: 0</th>\n",
              "      <th>Unnamed: 1</th>\n",
              "      <th>1d</th>\n",
              "      <th>Translation 1d</th>\n",
              "      <th>1e</th>\n",
              "      <th>Translation 1e</th>\n",
              "      <th>1f</th>\n",
              "      <th>Translation 1f</th>\n",
              "      <th>1i</th>\n",
              "      <th>Translation 1i</th>\n",
              "      <th>2d</th>\n",
              "      <th>Translation 2d</th>\n",
              "      <th>2e</th>\n",
              "      <th>Translation 2e</th>\n",
              "      <th>2f</th>\n",
              "      <th>Translation 2f</th>\n",
              "      <th>2i</th>\n",
              "      <th>Translation 2i</th>\n",
              "      <th>3d</th>\n",
              "      <th>Translation 3d</th>\n",
              "      <th>3e</th>\n",
              "      <th>Translation 3e</th>\n",
              "      <th>3f</th>\n",
              "      <th>Translation 3f</th>\n",
              "      <th>3j</th>\n",
              "      <th>Translation 3j</th>\n",
              "    </tr>\n",
              "  </thead>\n",
              "  <tbody>\n",
              "    <tr>\n",
              "      <th>0</th>\n",
              "      <td>KOTA BE</td>\n",
              "      <td>Jalousie</td>\n",
              "      <td>KOTA BE</td>\n",
              "      <td>Jalousie</td>\n",
              "      <td>LES JEUNES QUI DEFENDENT LES INTERETS DE NOTION</td>\n",
              "      <td>NaN</td>\n",
              "      <td>ARABO KRIDI</td>\n",
              "      <td>Musulman indicipliné</td>\n",
              "      <td>Ndeko ti mbi</td>\n",
              "      <td>mon ami</td>\n",
              "      <td>Estigmatisation</td>\n",
              "      <td>NaN</td>\n",
              "      <td>Estigmatisation</td>\n",
              "      <td>NaN</td>\n",
              "      <td>TA MO SO LE TI BONGO TI MO GUI OKO SO KOUE</td>\n",
              "      <td>Toi qui n'a qu'une seule tenue?</td>\n",
              "      <td>ITA WA BE AFRIKA</td>\n",
              "      <td>Frère compatriote centrafricain;</td>\n",
              "      <td>MARA NDE</td>\n",
              "      <td>Autre ethnie</td>\n",
              "      <td>Estigmatisation</td>\n",
              "      <td>NaN</td>\n",
              "      <td>Ti ala baba so</td>\n",
              "      <td>vous les vieux là;</td>\n",
              "      <td>A baba ti i wa be africa</td>\n",
              "      <td>Nos pères, compatriotes;</td>\n",
              "    </tr>\n",
              "    <tr>\n",
              "      <th>1</th>\n",
              "      <td>ARBOU SOUKOULA LI</td>\n",
              "      <td>Un Chrétien  converti à l'Islam;</td>\n",
              "      <td>ARBOU SOUKOULA LI</td>\n",
              "      <td>Un Chrétien  converti à l'Islam;</td>\n",
              "      <td>QUALIFICATION NEGATIVE / ADOLESCENTE</td>\n",
              "      <td>NaN</td>\n",
              "      <td>BA LO , KPANDA !</td>\n",
              "      <td>Regrde-le; chiot;</td>\n",
              "      <td>A ITA TI I</td>\n",
              "      <td>Mes frères</td>\n",
              "      <td>ARABOU, WANDE</td>\n",
              "      <td>Musulman , Etranger;</td>\n",
              "      <td>QUALIFICATION NEFASTE / DELINQUANT</td>\n",
              "      <td>NaN</td>\n",
              "      <td>Ala a Seleka so</td>\n",
              "      <td>Vous les milices musulman là;</td>\n",
              "      <td>Ita ti mbi</td>\n",
              "      <td>Mon frère;</td>\n",
              "      <td>DONC TI FA KA QUE MBI YEKE BOUBAZO NA LE TI LO</td>\n",
              "      <td>pour savoir toujours que je suis stupide devan...</td>\n",
              "      <td>CA CHOQUE / BANDA</td>\n",
              "      <td>NaN</td>\n",
              "      <td>Mo soukoula li</td>\n",
              "      <td>Toi chrétien converti à l'islam</td>\n",
              "      <td>Ita ti mbi</td>\n",
              "      <td>Mon frère;</td>\n",
              "    </tr>\n",
              "    <tr>\n",
              "      <th>2</th>\n",
              "      <td>MOLENGUE TI BABA GBANBO</td>\n",
              "      <td>Enfant qui aurait plusieurs pères;</td>\n",
              "      <td>MOLENGUE TI BABA GBANBO</td>\n",
              "      <td>Enfant qui aurait plusieurs pères;</td>\n",
              "      <td>CAR C'EST DES CONSIDERATIONS NEFASTES / ADOLES...</td>\n",
              "      <td>NaN</td>\n",
              "      <td>Mo yeke Balaka</td>\n",
              "      <td>Tu es un milice chrétien;</td>\n",
              "      <td>A ita ti i so a gbou ngombé na tere ti a ita t...</td>\n",
              "      <td>Nos frères qui ont utilisé les armes leurs pro...</td>\n",
              "      <td>MON NGA LA SI MO MERDE A ZO SO</td>\n",
              "      <td>Toi aussi, tu oses causer la merde</td>\n",
              "      <td>A toroboro aga ti mo kodro tiye</td>\n",
              "      <td>Les rebelles sont en train de venir envaillir ...</td>\n",
              "      <td>Ama a arabou so</td>\n",
              "      <td>Les musulmans là;</td>\n",
              "      <td>ITA TI ZO, BA SI</td>\n",
              "      <td>Mon frère,regarde;</td>\n",
              "      <td>Bordelle</td>\n",
              "      <td>NaN</td>\n",
              "      <td>TAXI-MOTO</td>\n",
              "      <td>NaN</td>\n",
              "      <td>Ba la bengue</td>\n",
              "      <td>Regarde-le musulman;</td>\n",
              "      <td>Ita ti mbi ti kodro oko</td>\n",
              "      <td>Mon frère compatriote;</td>\n",
              "    </tr>\n",
              "    <tr>\n",
              "      <th>3</th>\n",
              "      <td>HAINE</td>\n",
              "      <td>Ceux de l'ethnie banda, sont des ragotistes, d...</td>\n",
              "      <td>HAINE</td>\n",
              "      <td>NaN</td>\n",
              "      <td>QUALIFICATION NEFASTE</td>\n",
              "      <td>NaN</td>\n",
              "      <td>Mo yeke gagango</td>\n",
              "      <td>Tu es un étranger profiteur;</td>\n",
              "      <td>I TA TI MBI TI WALI</td>\n",
              "      <td>Mes chères sœurs;</td>\n",
              "      <td>ENERVANT</td>\n",
              "      <td>NaN</td>\n",
              "      <td>Lawa la a la moungo be</td>\n",
              "      <td>Quand est-ce vous allez prendre au moins les a...</td>\n",
              "      <td>HON NA NI KA, BA FOU NGO MO</td>\n",
              "      <td>Dégages, tu pues;</td>\n",
              "      <td>A MOLENGUE TI BE AFRIKA, ZO A DOUA TI ANDA YI APE</td>\n",
              "      <td>Chers compatriotes centrafricains, que personn...</td>\n",
              "      <td>Oteur d ane ,tuer</td>\n",
              "      <td>NaN</td>\n",
              "      <td>BA LO BOUBA ZO . NA POPO TI AZO , A MBENI A YE...</td>\n",
              "      <td>Regarde-le , stupide pamiles gens importants; ...</td>\n",
              "      <td>BA LO , GUERE GUENGUE</td>\n",
              "      <td>Regarde-le, pieds de crevettes;</td>\n",
              "      <td>ITA TI MBI</td>\n",
              "      <td>Mon frère;</td>\n",
              "    </tr>\n",
              "    <tr>\n",
              "      <th>4</th>\n",
              "      <td>A BANDA A YEKE A ZO TI TENE NGO KETE TENE</td>\n",
              "      <td>Prostituée; un Voleur; Sidéens;</td>\n",
              "      <td>A BANDA A YEKE A ZO TI TENE NGO KETE TENE</td>\n",
              "      <td>Ceux de l'ethnie banda, sont des ragotistes, d...</td>\n",
              "      <td>ONG</td>\n",
              "      <td>NaN</td>\n",
              "      <td>ALA A GA GANGO SO ALA DOUA TI ALA TI ZI YANGA APE</td>\n",
              "      <td>Les étrangers profiteurs n'ont pas droit à la ...</td>\n",
              "      <td>Me ne Yami</td>\n",
              "      <td>Tu es mon frère</td>\n",
              "      <td>A AGA GANGO</td>\n",
              "      <td>Etrangers profiteurs</td>\n",
              "      <td>KOUMBAMBA</td>\n",
              "      <td>Célibataire</td>\n",
              "      <td>Ama a Mbororo so</td>\n",
              "      <td>Les musulmans là;</td>\n",
              "      <td>A ITA TI I A WA KUSALA</td>\n",
              "      <td>Chers frères travailleurs;</td>\n",
              "      <td>Amene monche che; un bossare</td>\n",
              "      <td>NaN</td>\n",
              "      <td>RICHES/FORTS</td>\n",
              "      <td>NaN</td>\n",
              "      <td>MO YE TI MO KA VENE MINGUI, PARDON HON NA NI KA</td>\n",
              "      <td>Tu ess trop orgueilleux; vas labàs;</td>\n",
              "      <td>Ama so agbou lani a ngobé so</td>\n",
              "      <td>ceux qui ont pu utiliser les armes hier</td>\n",
              "    </tr>\n",
              "  </tbody>\n",
              "</table>\n",
              "</div>"
            ],
            "text/plain": [
              "                                  Unnamed: 0  ...                           Translation 3j\n",
              "0                                    KOTA BE  ...                Nos pères, compatriotes; \n",
              "1                          ARBOU SOUKOULA LI  ...                              Mon frère; \n",
              "2                    MOLENGUE TI BABA GBANBO  ...                  Mon frère compatriote; \n",
              "3                                      HAINE  ...                              Mon frère; \n",
              "4  A BANDA A YEKE A ZO TI TENE NGO KETE TENE  ...  ceux qui ont pu utiliser les armes hier\n",
              "\n",
              "[5 rows x 26 columns]"
            ]
          },
          "metadata": {
            "tags": []
          },
          "execution_count": 12
        }
      ]
    },
    {
      "cell_type": "code",
      "metadata": {
        "colab": {
          "base_uri": "https://localhost:8080/",
          "height": 819
        },
        "id": "3b5YMiKh01Ro",
        "outputId": "03f241af-99b4-409f-a4b7-84a6e376d907"
      },
      "source": [
        "terms1 = terms.drop(terms.columns[[0,1]], axis=1)\n",
        "terms1.head()"
      ],
      "execution_count": null,
      "outputs": [
        {
          "output_type": "execute_result",
          "data": {
            "text/html": [
              "<div>\n",
              "<style scoped>\n",
              "    .dataframe tbody tr th:only-of-type {\n",
              "        vertical-align: middle;\n",
              "    }\n",
              "\n",
              "    .dataframe tbody tr th {\n",
              "        vertical-align: top;\n",
              "    }\n",
              "\n",
              "    .dataframe thead th {\n",
              "        text-align: right;\n",
              "    }\n",
              "</style>\n",
              "<table border=\"1\" class=\"dataframe\">\n",
              "  <thead>\n",
              "    <tr style=\"text-align: right;\">\n",
              "      <th></th>\n",
              "      <th>1d</th>\n",
              "      <th>Translation 1d</th>\n",
              "      <th>1e</th>\n",
              "      <th>Translation 1e</th>\n",
              "      <th>1f</th>\n",
              "      <th>Translation 1f</th>\n",
              "      <th>1i</th>\n",
              "      <th>Translation 1i</th>\n",
              "      <th>2d</th>\n",
              "      <th>Translation 2d</th>\n",
              "      <th>2e</th>\n",
              "      <th>Translation 2e</th>\n",
              "      <th>2f</th>\n",
              "      <th>Translation 2f</th>\n",
              "      <th>2i</th>\n",
              "      <th>Translation 2i</th>\n",
              "      <th>3d</th>\n",
              "      <th>Translation 3d</th>\n",
              "      <th>3e</th>\n",
              "      <th>Translation 3e</th>\n",
              "      <th>3f</th>\n",
              "      <th>Translation 3f</th>\n",
              "      <th>3j</th>\n",
              "      <th>Translation 3j</th>\n",
              "    </tr>\n",
              "  </thead>\n",
              "  <tbody>\n",
              "    <tr>\n",
              "      <th>0</th>\n",
              "      <td>KOTA BE</td>\n",
              "      <td>Jalousie</td>\n",
              "      <td>LES JEUNES QUI DEFENDENT LES INTERETS DE NOTION</td>\n",
              "      <td>NaN</td>\n",
              "      <td>ARABO KRIDI</td>\n",
              "      <td>Musulman indicipliné</td>\n",
              "      <td>Ndeko ti mbi</td>\n",
              "      <td>mon ami</td>\n",
              "      <td>Estigmatisation</td>\n",
              "      <td>NaN</td>\n",
              "      <td>Estigmatisation</td>\n",
              "      <td>NaN</td>\n",
              "      <td>TA MO SO LE TI BONGO TI MO GUI OKO SO KOUE</td>\n",
              "      <td>Toi qui n'a qu'une seule tenue?</td>\n",
              "      <td>ITA WA BE AFRIKA</td>\n",
              "      <td>Frère compatriote centrafricain;</td>\n",
              "      <td>MARA NDE</td>\n",
              "      <td>Autre ethnie</td>\n",
              "      <td>Estigmatisation</td>\n",
              "      <td>NaN</td>\n",
              "      <td>Ti ala baba so</td>\n",
              "      <td>vous les vieux là;</td>\n",
              "      <td>A baba ti i wa be africa</td>\n",
              "      <td>Nos pères, compatriotes;</td>\n",
              "    </tr>\n",
              "    <tr>\n",
              "      <th>1</th>\n",
              "      <td>ARBOU SOUKOULA LI</td>\n",
              "      <td>Un Chrétien  converti à l'Islam;</td>\n",
              "      <td>QUALIFICATION NEGATIVE / ADOLESCENTE</td>\n",
              "      <td>NaN</td>\n",
              "      <td>BA LO , KPANDA !</td>\n",
              "      <td>Regrde-le; chiot;</td>\n",
              "      <td>A ITA TI I</td>\n",
              "      <td>Mes frères</td>\n",
              "      <td>ARABOU, WANDE</td>\n",
              "      <td>Musulman , Etranger;</td>\n",
              "      <td>QUALIFICATION NEFASTE / DELINQUANT</td>\n",
              "      <td>NaN</td>\n",
              "      <td>Ala a Seleka so</td>\n",
              "      <td>Vous les milices musulman là;</td>\n",
              "      <td>Ita ti mbi</td>\n",
              "      <td>Mon frère;</td>\n",
              "      <td>DONC TI FA KA QUE MBI YEKE BOUBAZO NA LE TI LO</td>\n",
              "      <td>pour savoir toujours que je suis stupide devan...</td>\n",
              "      <td>CA CHOQUE / BANDA</td>\n",
              "      <td>NaN</td>\n",
              "      <td>Mo soukoula li</td>\n",
              "      <td>Toi chrétien converti à l'islam</td>\n",
              "      <td>Ita ti mbi</td>\n",
              "      <td>Mon frère;</td>\n",
              "    </tr>\n",
              "    <tr>\n",
              "      <th>2</th>\n",
              "      <td>MOLENGUE TI BABA GBANBO</td>\n",
              "      <td>Enfant qui aurait plusieurs pères;</td>\n",
              "      <td>CAR C'EST DES CONSIDERATIONS NEFASTES / ADOLES...</td>\n",
              "      <td>NaN</td>\n",
              "      <td>Mo yeke Balaka</td>\n",
              "      <td>Tu es un milice chrétien;</td>\n",
              "      <td>A ita ti i so a gbou ngombé na tere ti a ita t...</td>\n",
              "      <td>Nos frères qui ont utilisé les armes leurs pro...</td>\n",
              "      <td>MON NGA LA SI MO MERDE A ZO SO</td>\n",
              "      <td>Toi aussi, tu oses causer la merde</td>\n",
              "      <td>A toroboro aga ti mo kodro tiye</td>\n",
              "      <td>Les rebelles sont en train de venir envaillir ...</td>\n",
              "      <td>Ama a arabou so</td>\n",
              "      <td>Les musulmans là;</td>\n",
              "      <td>ITA TI ZO, BA SI</td>\n",
              "      <td>Mon frère,regarde;</td>\n",
              "      <td>Bordelle</td>\n",
              "      <td>NaN</td>\n",
              "      <td>TAXI-MOTO</td>\n",
              "      <td>NaN</td>\n",
              "      <td>Ba la bengue</td>\n",
              "      <td>Regarde-le musulman;</td>\n",
              "      <td>Ita ti mbi ti kodro oko</td>\n",
              "      <td>Mon frère compatriote;</td>\n",
              "    </tr>\n",
              "    <tr>\n",
              "      <th>3</th>\n",
              "      <td>HAINE</td>\n",
              "      <td>NaN</td>\n",
              "      <td>QUALIFICATION NEFASTE</td>\n",
              "      <td>NaN</td>\n",
              "      <td>Mo yeke gagango</td>\n",
              "      <td>Tu es un étranger profiteur;</td>\n",
              "      <td>I TA TI MBI TI WALI</td>\n",
              "      <td>Mes chères sœurs;</td>\n",
              "      <td>ENERVANT</td>\n",
              "      <td>NaN</td>\n",
              "      <td>Lawa la a la moungo be</td>\n",
              "      <td>Quand est-ce vous allez prendre au moins les a...</td>\n",
              "      <td>HON NA NI KA, BA FOU NGO MO</td>\n",
              "      <td>Dégages, tu pues;</td>\n",
              "      <td>A MOLENGUE TI BE AFRIKA, ZO A DOUA TI ANDA YI APE</td>\n",
              "      <td>Chers compatriotes centrafricains, que personn...</td>\n",
              "      <td>Oteur d ane ,tuer</td>\n",
              "      <td>NaN</td>\n",
              "      <td>BA LO BOUBA ZO . NA POPO TI AZO , A MBENI A YE...</td>\n",
              "      <td>Regarde-le , stupide pamiles gens importants; ...</td>\n",
              "      <td>BA LO , GUERE GUENGUE</td>\n",
              "      <td>Regarde-le, pieds de crevettes;</td>\n",
              "      <td>ITA TI MBI</td>\n",
              "      <td>Mon frère;</td>\n",
              "    </tr>\n",
              "    <tr>\n",
              "      <th>4</th>\n",
              "      <td>A BANDA A YEKE A ZO TI TENE NGO KETE TENE</td>\n",
              "      <td>Ceux de l'ethnie banda, sont des ragotistes, d...</td>\n",
              "      <td>ONG</td>\n",
              "      <td>NaN</td>\n",
              "      <td>ALA A GA GANGO SO ALA DOUA TI ALA TI ZI YANGA APE</td>\n",
              "      <td>Les étrangers profiteurs n'ont pas droit à la ...</td>\n",
              "      <td>Me ne Yami</td>\n",
              "      <td>Tu es mon frère</td>\n",
              "      <td>A AGA GANGO</td>\n",
              "      <td>Etrangers profiteurs</td>\n",
              "      <td>KOUMBAMBA</td>\n",
              "      <td>Célibataire</td>\n",
              "      <td>Ama a Mbororo so</td>\n",
              "      <td>Les musulmans là;</td>\n",
              "      <td>A ITA TI I A WA KUSALA</td>\n",
              "      <td>Chers frères travailleurs;</td>\n",
              "      <td>Amene monche che; un bossare</td>\n",
              "      <td>NaN</td>\n",
              "      <td>RICHES/FORTS</td>\n",
              "      <td>NaN</td>\n",
              "      <td>MO YE TI MO KA VENE MINGUI, PARDON HON NA NI KA</td>\n",
              "      <td>Tu ess trop orgueilleux; vas labàs;</td>\n",
              "      <td>Ama so agbou lani a ngobé so</td>\n",
              "      <td>ceux qui ont pu utiliser les armes hier</td>\n",
              "    </tr>\n",
              "  </tbody>\n",
              "</table>\n",
              "</div>"
            ],
            "text/plain": [
              "                                          1d  ...                           Translation 3j\n",
              "0                                    KOTA BE  ...                Nos pères, compatriotes; \n",
              "1                          ARBOU SOUKOULA LI  ...                              Mon frère; \n",
              "2                    MOLENGUE TI BABA GBANBO  ...                  Mon frère compatriote; \n",
              "3                                      HAINE  ...                              Mon frère; \n",
              "4  A BANDA A YEKE A ZO TI TENE NGO KETE TENE  ...  ceux qui ont pu utiliser les armes hier\n",
              "\n",
              "[5 rows x 24 columns]"
            ]
          },
          "metadata": {
            "tags": []
          },
          "execution_count": 13
        }
      ]
    },
    {
      "cell_type": "code",
      "metadata": {
        "colab": {
          "base_uri": "https://localhost:8080/"
        },
        "id": "CwStREU60261",
        "outputId": "59d7e415-2a6c-4b90-b0af-491d4328ae11"
      },
      "source": [
        "mapping = {'1d':'Terms','1e':'Terms','1f':'Terms','1i':'Terms','2d':'Terms','2e':'Terms','2f':'Terms','2i':'Terms','3d':'Terms','3e':'Terms','3f':'Terms','3j':'Terms',\n",
        "           'Translation 1d':'Translation','Translation 1e':'Translation','Translation 1f':'Translation','Translation 1i':'Translation','Translation 2d':'Translation','Translation 2e':'Translation','Translation 2f':'Translation','Translation 2i':'Translation','Translation 3d':'Translation','Translation 3e':'Translation','Translation 3f':'Translation','Translation 3j':'Translation'}\n",
        "mapping"
      ],
      "execution_count": null,
      "outputs": [
        {
          "output_type": "execute_result",
          "data": {
            "text/plain": [
              "{'1d': 'Terms',\n",
              " '1e': 'Terms',\n",
              " '1f': 'Terms',\n",
              " '1i': 'Terms',\n",
              " '2d': 'Terms',\n",
              " '2e': 'Terms',\n",
              " '2f': 'Terms',\n",
              " '2i': 'Terms',\n",
              " '3d': 'Terms',\n",
              " '3e': 'Terms',\n",
              " '3f': 'Terms',\n",
              " '3j': 'Terms',\n",
              " 'Translation 1d': 'Translation',\n",
              " 'Translation 1e': 'Translation',\n",
              " 'Translation 1f': 'Translation',\n",
              " 'Translation 1i': 'Translation',\n",
              " 'Translation 2d': 'Translation',\n",
              " 'Translation 2e': 'Translation',\n",
              " 'Translation 2f': 'Translation',\n",
              " 'Translation 2i': 'Translation',\n",
              " 'Translation 3d': 'Translation',\n",
              " 'Translation 3e': 'Translation',\n",
              " 'Translation 3f': 'Translation',\n",
              " 'Translation 3j': 'Translation'}"
            ]
          },
          "metadata": {
            "tags": []
          },
          "execution_count": 16
        }
      ]
    },
    {
      "cell_type": "code",
      "metadata": {
        "id": "uw1kaDt_5aPZ"
      },
      "source": [
        "terms2 = terms1.groupby(mapping, axis=1)"
      ],
      "execution_count": null,
      "outputs": []
    },
    {
      "cell_type": "code",
      "metadata": {
        "id": "MEEZ6Owf6ofD"
      },
      "source": [
        "terms2.head()"
      ],
      "execution_count": null,
      "outputs": []
    },
    {
      "cell_type": "code",
      "metadata": {
        "id": "Kl34894UDhNh"
      },
      "source": [
        ""
      ],
      "execution_count": null,
      "outputs": []
    }
  ]
}